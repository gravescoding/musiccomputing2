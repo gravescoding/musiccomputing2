{
  "nbformat": 4,
  "nbformat_minor": 0,
  "metadata": {
    "colab": {
      "provenance": [],
      "include_colab_link": true
    },
    "kernelspec": {
      "name": "python3",
      "display_name": "Python 3"
    },
    "language_info": {
      "name": "python"
    }
  },
  "cells": [
    {
      "cell_type": "markdown",
      "metadata": {
        "id": "view-in-github",
        "colab_type": "text"
      },
      "source": [
        "<a href=\"https://colab.research.google.com/github/gravescoding/musiccomputing2/blob/main/assignments/labAssignment1.ipynb\" target=\"_parent\"><img src=\"https://colab.research.google.com/assets/colab-badge.svg\" alt=\"Open In Colab\"/></a>"
      ]
    },
    {
      "cell_type": "code",
      "source": [
        "import numpy as np\n",
        "time2=np.arange(0,sig2.shape[0])/sr2\n",
        "plt.plot(time2,sigNew2)\n",
        "plt.xlabel('Time (seconds)')\n",
        "plt.ylabel(ylabel)\n",
        "\n",
        "excursion2=max(abs(sig2))\n",
        "sigNew2 = sig2/excursion2\n",
        "plt.plot(time2,sigNew2)"
      ],
      "metadata": {
        "id": "AFXCetH1gHUh",
        "outputId": "01ef6b49-31ab-4266-ccc6-74b6287dca82",
        "colab": {
          "base_uri": "https://localhost:8080/",
          "height": 216
        }
      },
      "execution_count": 23,
      "outputs": [
        {
          "output_type": "error",
          "ename": "NameError",
          "evalue": "name 'sigNew2' is not defined",
          "traceback": [
            "\u001b[0;31m---------------------------------------------------------------------------\u001b[0m",
            "\u001b[0;31mNameError\u001b[0m                                 Traceback (most recent call last)",
            "\u001b[0;32m<ipython-input-23-6fee8448d2f6>\u001b[0m in \u001b[0;36m<cell line: 0>\u001b[0;34m()\u001b[0m\n\u001b[1;32m      1\u001b[0m \u001b[0;32mimport\u001b[0m \u001b[0mnumpy\u001b[0m \u001b[0;32mas\u001b[0m \u001b[0mnp\u001b[0m\u001b[0;34m\u001b[0m\u001b[0;34m\u001b[0m\u001b[0m\n\u001b[1;32m      2\u001b[0m \u001b[0mtime2\u001b[0m\u001b[0;34m=\u001b[0m\u001b[0mnp\u001b[0m\u001b[0;34m.\u001b[0m\u001b[0marange\u001b[0m\u001b[0;34m(\u001b[0m\u001b[0;36m0\u001b[0m\u001b[0;34m,\u001b[0m\u001b[0msig2\u001b[0m\u001b[0;34m.\u001b[0m\u001b[0mshape\u001b[0m\u001b[0;34m[\u001b[0m\u001b[0;36m0\u001b[0m\u001b[0;34m]\u001b[0m\u001b[0;34m)\u001b[0m\u001b[0;34m/\u001b[0m\u001b[0msr2\u001b[0m\u001b[0;34m\u001b[0m\u001b[0;34m\u001b[0m\u001b[0m\n\u001b[0;32m----> 3\u001b[0;31m \u001b[0mplt\u001b[0m\u001b[0;34m.\u001b[0m\u001b[0mplot\u001b[0m\u001b[0;34m(\u001b[0m\u001b[0mtime2\u001b[0m\u001b[0;34m,\u001b[0m\u001b[0msigNew2\u001b[0m\u001b[0;34m)\u001b[0m\u001b[0;34m\u001b[0m\u001b[0;34m\u001b[0m\u001b[0m\n\u001b[0m\u001b[1;32m      4\u001b[0m \u001b[0mplt\u001b[0m\u001b[0;34m.\u001b[0m\u001b[0mxlabel\u001b[0m\u001b[0;34m(\u001b[0m\u001b[0;34m'Time (seconds)'\u001b[0m\u001b[0;34m)\u001b[0m\u001b[0;34m\u001b[0m\u001b[0;34m\u001b[0m\u001b[0m\n\u001b[1;32m      5\u001b[0m \u001b[0mplt\u001b[0m\u001b[0;34m.\u001b[0m\u001b[0mylabel\u001b[0m\u001b[0;34m(\u001b[0m\u001b[0mylabel\u001b[0m\u001b[0;34m)\u001b[0m\u001b[0;34m\u001b[0m\u001b[0;34m\u001b[0m\u001b[0m\n",
            "\u001b[0;31mNameError\u001b[0m: name 'sigNew2' is not defined"
          ]
        }
      ]
    },
    {
      "cell_type": "code",
      "execution_count": 21,
      "metadata": {
        "id": "JUQi5CFCIP0k",
        "colab": {
          "base_uri": "https://localhost:8080/"
        },
        "collapsed": true,
        "outputId": "b7703ab5-ba01-405e-8af7-f9bdb062b49d"
      },
      "outputs": [
        {
          "output_type": "stream",
          "name": "stdout",
          "text": [
            "fatal: destination path 'imc2023' already exists and is not an empty directory.\n"
          ]
        }
      ],
      "source": [
        "# 1) Start by importing the necessary libraries in the first cell of the notebook\n",
        "\n",
        "import matplotlib.pylab as plt\n",
        "\n",
        "#import audio files\n",
        "!git clone https://github.com/jcdevaney/imc2023.git\n",
        "\n",
        "import librosa\n",
        "import librosa.display\n",
        "file2 = 'imc2023/audioFiles/avm2.wav'\n",
        "sig2 , sr2 = librosa.load(file,mono=True,sr=None)"
      ]
    },
    {
      "cell_type": "code",
      "source": [
        "# 2) Create a function that inputs the name of an audio file and a sampling rate\n",
        "\n",
        "def plotAudio(file,samplerate):\n",
        "\n",
        "  # In the function you should use librosa.load() to open the specified filename\n",
        "  # with the specified sampling rate\n",
        "\n",
        "\n",
        "  # Use variables for the x- and y-labels\n",
        "\n",
        "\n",
        "  # The function should plot the time-domain (waveform) representation of the\n",
        "  # audio signal with time in seconds on the x-axis and amplitude on the y-axis\n",
        "\n",
        "\n",
        "  # Plot the signal\n"
      ],
      "metadata": {
        "id": "L66xJtpHwLCN",
        "colab": {
          "base_uri": "https://localhost:8080/",
          "height": 108
        },
        "collapsed": true,
        "outputId": "a705ff11-89bc-4c52-d833-3b7c897cf273"
      },
      "execution_count": 13,
      "outputs": [
        {
          "output_type": "error",
          "ename": "SyntaxError",
          "evalue": "invalid syntax (<ipython-input-13-f77bc5546c13>, line 3)",
          "traceback": [
            "\u001b[0;36m  File \u001b[0;32m\"<ipython-input-13-f77bc5546c13>\"\u001b[0;36m, line \u001b[0;32m3\u001b[0m\n\u001b[0;31m    def plotAudio(file,sample rate):\u001b[0m\n\u001b[0m                              ^\u001b[0m\n\u001b[0;31mSyntaxError\u001b[0m\u001b[0;31m:\u001b[0m invalid syntax\n"
          ]
        }
      ]
    },
    {
      "cell_type": "code",
      "source": [
        "# 3) Run the function twice (in different cells)\n",
        "# First use ‘avm.wav’ as the filename with a sampling rate of 44100\n",
        "\n",
        "file = 'musicComputing2025/audioFiles/avm.wav'\n",
        "samplingRate=44100\n",
        "plotAudio(file,samplingRate)"
      ],
      "metadata": {
        "id": "dUpKDEPMw57F"
      },
      "execution_count": null,
      "outputs": []
    },
    {
      "cell_type": "code",
      "source": [
        "# Second use ‘avm.wav’ as the filename with a sampling rate of 441\n",
        "\n",
        "\n",
        "file = 'musicComputing2025/audioFiles/avm.wav'\n",
        "samplingRate=441\n",
        "plotAudio(file,samplingRate)"
      ],
      "metadata": {
        "id": "PV9__PiGxCqJ"
      },
      "execution_count": null,
      "outputs": []
    }
  ]
}